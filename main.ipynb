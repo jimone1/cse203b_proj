{
 "cells": [
  {
   "cell_type": "code",
   "execution_count": 1,
   "metadata": {},
   "outputs": [],
   "source": [
    "from utils import mnist_reader\n",
    "from sklearn import svm\n",
    "import numpy as np\n",
    "from sklearn.metrics import accuracy_score\n",
    "import cvxpy as cp \n",
    "import cv2\n",
    "from matplotlib import pyplot as plt"
   ]
  },
  {
   "cell_type": "code",
   "execution_count": 2,
   "metadata": {},
   "outputs": [],
   "source": [
    "X_train, y_train = mnist_reader.load_mnist('data/fashion', kind='train')\n",
    "X_test, y_test = mnist_reader.load_mnist('data/fashion', kind='t10k')"
   ]
  },
  {
   "cell_type": "code",
   "execution_count": 3,
   "metadata": {},
   "outputs": [],
   "source": [
    "X_train = X_train.reshape(-1,28,28,1)\n",
    "X_test = X_test.reshape(-1,28,28,1)"
   ]
  },
  {
   "cell_type": "code",
   "execution_count": 4,
   "metadata": {},
   "outputs": [],
   "source": [
    "def training(X_train, y_train, X_test, y_test):\n",
    "    # Train SVM classifier with default hyperparameters\n",
    "    print(\"Train On Dataset\")\n",
    "    clf = svm.SVC()\n",
    "    clf.fit(X_train, y_train)\n",
    "\n",
    "    # Evaluate the classifier on the test set\n",
    "    y_pred = clf.predict(X_test)\n",
    "    acc = accuracy_score(y_test, y_pred)\n",
    "\n",
    "    print('Test accuracy: ', acc)"
   ]
  },
  {
   "cell_type": "code",
   "execution_count": 5,
   "metadata": {},
   "outputs": [
    {
     "name": "stderr",
     "output_type": "stream",
     "text": [
      "/Users/jimwan/Library/Python/3.10/lib/python/site-packages/cvxpy/problems/problem.py:1385: UserWarning: Solution may be inaccurate. Try another solver, adjusting the solver settings, or solve with verbose=True for more information.\n",
      "  warnings.warn(\n"
     ]
    }
   ],
   "source": [
    "# front = 0\n",
    "# last = 1\n",
    "# X_train = X_train[front:last]\n",
    "# X_test = X_test[front:last]\n",
    "# y_train = y_train[front:last]\n",
    "# y_test = y_test[front:last]\n",
    "\n",
    "i = 0\n",
    "x_train_opt = []\n",
    "x_test_opt = []\n",
    "for i in range(len(X_train)):\n",
    "\tcv2.imwrite(f'data/train_test/train_img_{i}.png', X_train[i])\n",
    "\timg = cv2.imread(f'data/train_test/train_img_{i}.png')\n",
    "\tgray = cv2.cvtColor(img, cv2.COLOR_BGR2GRAY)\n",
    "\n",
    "\tsmoothed_X = cp.Variable(gray.shape)\n",
    "\tbeta = 0.002\n",
    "\n",
    "\t# Define the objective function\n",
    "\tobjective = cp.norm(smoothed_X - gray, 'fro') ** 2 + beta * cp.norm(np.cov(gray), 1)\n",
    "\tconstraint = [0 <= smoothed_X, smoothed_X <= 255]\n",
    "\n",
    "\t# Define the problem and solve it\n",
    "\tproblem = cp.Problem(cp.Minimize(objective), constraint)\n",
    "\tproblem.solve()\n",
    "\n",
    "\tsmoothed_X = np.array(smoothed_X.value * 255.0, dtype = np.uint8)\n",
    "\n",
    "\tth2 = cv2.adaptiveThreshold(smoothed_X, 255,\n",
    "\t\tcv2.ADAPTIVE_THRESH_MEAN_C, cv2.THRESH_BINARY, 57, 10)\n",
    "\n",
    "\tx_train_opt.append(th2)\n",
    "\n",
    "for i in range(len(X_test)):\n",
    "\tcv2.imwrite(f'data/train_test/test_img_{i}.png', X_test[i])\n",
    "\timg = cv2.imread(f'data/train_test/test_img_{i}.png')\n",
    "\tgray = cv2.cvtColor(img, cv2.COLOR_BGR2GRAY)\n",
    "\n",
    "\tsmoothed_X = cp.Variable(gray.shape)\n",
    "\tbeta = 0.002\n",
    "\n",
    "\t# Define the objective function\n",
    "\tobjective = cp.norm(smoothed_X - gray, 'fro') ** 2 + beta * cp.norm(np.cov(gray), 1)\n",
    "\tconstraint = [0<=smoothed_X, smoothed_X<=255]\n",
    "\t\n",
    "\t# Define the problem and solve it\n",
    "\tproblem = cp.Problem(cp.Minimize(objective), constraint)\n",
    "\tproblem.solve()\n",
    "\n",
    "\tsmoothed_X = np.array(smoothed_X.value * 255.0, dtype = np.uint8)\n",
    "\n",
    "\tth2 = cv2.adaptiveThreshold(smoothed_X, 255,\n",
    "\t\tcv2.ADAPTIVE_THRESH_MEAN_C, cv2.THRESH_BINARY, 57, 10)\n",
    "\n",
    "\tx_test_opt.append(th2)\n",
    "\n",
    "x_train_opt = np.array(x_train_opt).reshape(-1, 784)\n",
    "x_test_opt = np.array(x_test_opt).reshape(-1, 784)\n",
    "print(x_train_opt.shape)\n",
    "training(x_train_opt, y_train, x_test_opt, y_test)"
   ]
  },
  {
   "cell_type": "code",
   "execution_count": null,
   "metadata": {},
   "outputs": [
    {
     "name": "stdout",
     "output_type": "stream",
     "text": [
      "Train On Dataset\n",
      "Test accuracy:  0.8828\n"
     ]
    }
   ],
   "source": [
    "X_train = X_train.reshape((-1, 784))\n",
    "X_test = X_test.reshape((-1, 784))\n",
    "training(X_train, y_train, X_test, y_test)"
   ]
  },
  {
   "cell_type": "code",
   "execution_count": null,
   "metadata": {},
   "outputs": [],
   "source": []
  },
  {
   "cell_type": "code",
   "execution_count": null,
   "metadata": {},
   "outputs": [],
   "source": []
  }
 ],
 "metadata": {
  "kernelspec": {
   "display_name": "Python 3",
   "language": "python",
   "name": "python3"
  },
  "language_info": {
   "codemirror_mode": {
    "name": "ipython",
    "version": 3
   },
   "file_extension": ".py",
   "mimetype": "text/x-python",
   "name": "python",
   "nbconvert_exporter": "python",
   "pygments_lexer": "ipython3",
   "version": "3.10.4"
  },
  "orig_nbformat": 4
 },
 "nbformat": 4,
 "nbformat_minor": 2
}
